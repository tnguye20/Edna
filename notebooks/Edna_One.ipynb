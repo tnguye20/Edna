{
 "cells": [
  {
   "cell_type": "markdown",
   "metadata": {},
   "source": [
    "# Edna One"
   ]
  },
  {
   "cell_type": "code",
   "execution_count": null,
   "metadata": {},
   "outputs": [],
   "source": [
    "import pandas as pd\n",
    "import numpy as np\n",
    "import re\n",
    "from collections import OrderedDict\n",
    "import math"
   ]
  },
  {
   "cell_type": "code",
   "execution_count": null,
   "metadata": {},
   "outputs": [],
   "source": [
    "chat = pd.read_csv('/tmp/oEqsHU0WnNYe22r8j39UQixTfGP2/WhatsApp/_chat.csv')\n",
    "\n",
    "chat['timestamp'] = pd.to_datetime(chat['timestamp'])\n",
    "chat['date'] = pd.to_datetime(chat['date'])\n",
    "chat['month'] = pd.DatetimeIndex(chat['timestamp']).month\n",
    "chat['year'] = pd.DatetimeIndex(chat['timestamp']).year\n",
    "chat['month-year'] = pd.to_datetime(chat['timestamp']).dt.to_period('M')"
   ]
  },
  {
   "cell_type": "markdown",
   "metadata": {},
   "source": [
    "### Masks"
   ]
  },
  {
   "cell_type": "code",
   "execution_count": null,
   "metadata": {},
   "outputs": [],
   "source": [
    "def getLoveMask(df):\n",
    "    return df['content'].str.contains('((I |me )(still |just )?(l|w)ove (you|u))|(^(l|w)ove (you|u))', flags=re.IGNORECASE, regex=True)\n",
    "\n",
    "def getMissMask(df):\n",
    "    return df['content'].str.contains('((I |me )(still |just )?miss (you|u))|(^miss (you|u))', flags=re.IGNORECASE, regex=True)\n",
    "\n",
    "def getGeneralStatistic(df):\n",
    "    data = OrderedDict()\n",
    "    \n",
    "    totalText = df.shape[0]\n",
    "    participants = df['sender'].unique().tolist()\n",
    "    years = df['year'].unique().tolist()\n",
    "    months = np.sort(df['month'].unique()).tolist()\n",
    "    \n",
    "    data['totalText'] = totalText\n",
    "    data['participants'] = participants\n",
    "    \n",
    "    #Mean\n",
    "    data['means'] = OrderedDict()\n",
    "    data['means']['year'] = totalText / len(years) if len(years) > 0 else 0\n",
    "\n",
    "    if(df.shape[0] > 0):\n",
    "        delta = df['timestamp'].iloc[-1] - df['timestamp'].iloc[0] \n",
    "        delta_month = math.ceil(delta/np.timedelta64(1, 'M'))\n",
    "        delta_day = math.ceil(delta/np.timedelta64(1, 'D'))\n",
    "        data['totalMonth'] = delta_month\n",
    "        data['totalDay'] = delta_day\n",
    "        data['means']['month'] = (totalText / delta_month) if delta_month > 0 else totalText\n",
    "        data['means']['day'] = (totalText / delta_day) if delta_day > 0 else totalText\n",
    "    else:\n",
    "        data['totalMonth'] = 0\n",
    "        data['totalDay'] = 0\n",
    "        data['means']['month'] = totalText\n",
    "        data['means']['day'] = totalText\n",
    "\n",
    "    data['years'] = years[0] if len(years) == 1 else years\n",
    "    data['months'] = months[0] if len(months) == 1 else months\n",
    "    \n",
    "    data['first_record_timestamp'] = df.head(1)['timestamp'].dt.strftime('%Y-%m-%d')\n",
    "    data['last_record_timestamp'] = df.tail(1)['timestamp'].dt.strftime('%Y-%m-%d')\n",
    "    \n",
    "    return data"
   ]
  },
  {
   "cell_type": "code",
   "execution_count": null,
   "metadata": {},
   "outputs": [],
   "source": [
    "LOVE_MASK = getLoveMask(chat)\n",
    "MISS_MASK = getMissMask(chat)\n",
    "ARGUE_MASK = chat['content'].str.contains('argu((ment)|e)', flags=re.IGNORECASE, regex=True)"
   ]
  },
  {
   "cell_type": "code",
   "execution_count": null,
   "metadata": {},
   "outputs": [],
   "source": [
    "love_chat = chat[LOVE_MASK]\n",
    "miss_chat = chat[MISS_MASK]"
   ]
  },
  {
   "cell_type": "code",
   "execution_count": null,
   "metadata": {},
   "outputs": [],
   "source": [
    "data = getGeneralStatistic(chat)\n",
    "data['annual_statistic'] = OrderedDict()\n",
    "data['love_statistic'] = getGeneralStatistic(love_chat)\n",
    "data['miss_statistic'] = getGeneralStatistic(miss_chat)\n",
    "data"
   ]
  },
  {
   "cell_type": "code",
   "execution_count": null,
   "metadata": {},
   "outputs": [],
   "source": [
    "for year in data['years']:\n",
    "    _chat = chat[chat['year'] == year]\n",
    "    year = str(year)\n",
    "    _love_chat = _chat[getLoveMask(_chat)]\n",
    "    _miss_chat = _chat[getMissMask(_chat)]\n",
    "    data['annual_statistic'][year] = getGeneralStatistic(_chat) \n",
    "    data['annual_statistic'][year]['love_statistic'] = getGeneralStatistic(_love_chat)\n",
    "    data['annual_statistic'][year]['miss_statistic'] = getGeneralStatistic(_miss_chat)\n",
    "    \n",
    "    data['annual_statistic'][year]['monthly_statistic'] = OrderedDict()\n",
    "    for month in _chat['month'].unique():\n",
    "        _month_chat = _chat[_chat['month'] == month]\n",
    "        _month_love_chat = _month_chat[getLoveMask(_month_chat)]\n",
    "        _month_miss_chat = _month_chat[getMissMask(_month_chat)]\n",
    "        month = str(month)\n",
    "        data['annual_statistic'][year]['monthly_statistic'][month] = getGeneralStatistic(_month_chat)\n",
    "        data['annual_statistic'][year]['monthly_statistic'][month]['love_statistic'] = getGeneralStatistic(_month_love_chat)\n",
    "        data['annual_statistic'][year]['monthly_statistic'][month]['miss_statistic'] = getGeneralStatistic(_month_miss_chat)"
   ]
  },
  {
   "cell_type": "markdown",
   "metadata": {},
   "source": [
    "## Higher statistic (Mean, Median and such)"
   ]
  },
  {
   "cell_type": "code",
   "execution_count": null,
   "metadata": {},
   "outputs": [],
   "source": [
    "data"
   ]
  },
  {
   "cell_type": "code",
   "execution_count": null,
   "metadata": {},
   "outputs": [],
   "source": []
  },
  {
   "cell_type": "code",
   "execution_count": null,
   "metadata": {},
   "outputs": [],
   "source": []
  }
 ],
 "metadata": {
  "kernelspec": {
   "display_name": "Python 3",
   "language": "python",
   "name": "python3"
  },
  "language_info": {
   "codemirror_mode": {
    "name": "ipython",
    "version": 3
   },
   "file_extension": ".py",
   "mimetype": "text/x-python",
   "name": "python",
   "nbconvert_exporter": "python",
   "pygments_lexer": "ipython3",
   "version": "3.9.1"
  }
 },
 "nbformat": 4,
 "nbformat_minor": 4
}
